{
 "cells": [
  {
   "cell_type": "markdown",
   "id": "2eb254a1",
   "metadata": {},
   "source": [
    "Ans1- a) Excel can perform VBA Coding, functions, formulas and create summaries easily than CSV.\n",
    "      b) Reading large data is easier in Excel.\n",
    "      c) We can add external links and custom add -ins in excel."
   ]
  },
  {
   "cell_type": "markdown",
   "id": "38ecb28e",
   "metadata": {},
   "source": [
    "Ans2- To read a CSV file with the csv module, first open it using the open() function and pass it to the csv.reader() function.\n",
    "\n",
    "To write - call open() and pass it 'w' to open a file in write mode. This will create the object you can then pass to csv.writer()  to create a Writer object.\n"
   ]
  },
  {
   "cell_type": "markdown",
   "id": "aa9a47df",
   "metadata": {},
   "source": [
    "Ans-3-\n",
    "\n",
    "r- Opens the file in read-only mode. \n",
    "    \n",
    "rb- Opens the file in binary and read-only mode.\n",
    "    \n",
    " <r+> or <+r> Opens the file in both read and write mode. \n",
    "    \n",
    "w- Opens the file in write mode. If the file already exists, all the contents will be overwritten. If the file doesn’t exist, then a new file will be created.\n",
    "    \n",
    " <wb+> or <+wb> Opens the file in read,write and binary mode. If the file already exists, the contents will be overwritten. If the file doesn’t exist, then a new file will be created.\n",
    "    \n",
    "    \n",
    "a -Opens the file in append mode. If the file doesn’t exist, then a new file will be created."
   ]
  },
  {
   "cell_type": "markdown",
   "id": "ca0acc10",
   "metadata": {},
   "source": [
    "Ans4-The writerow() method for Writer objects takes a list argument."
   ]
  },
  {
   "cell_type": "markdown",
   "id": "de4e5faa",
   "metadata": {},
   "source": [
    "Ans5-Delimiter is the character that appears between cells on a row. By default, the delimiter for a CSV file is a comma. The line terminator is the character that comes at the end of a row. By default, the line terminator is a newline. You can change characters to different values by using the delimiter and lineterminator keyword arguments with csv.writer().\n",
    "\n",
    "Passing delimeter='\\t' and lineterminator='\\n\\n'"
   ]
  },
  {
   "cell_type": "markdown",
   "id": "ace0fa33",
   "metadata": {},
   "source": [
    "Ans6-json.loads()"
   ]
  },
  {
   "cell_type": "markdown",
   "id": "f357a74b",
   "metadata": {},
   "source": [
    "Ans7-json.dumps() "
   ]
  },
  {
   "cell_type": "code",
   "execution_count": null,
   "id": "b7e1f63d",
   "metadata": {},
   "outputs": [],
   "source": []
  }
 ],
 "metadata": {
  "kernelspec": {
   "display_name": "Python 3 (ipykernel)",
   "language": "python",
   "name": "python3"
  },
  "language_info": {
   "codemirror_mode": {
    "name": "ipython",
    "version": 3
   },
   "file_extension": ".py",
   "mimetype": "text/x-python",
   "name": "python",
   "nbconvert_exporter": "python",
   "pygments_lexer": "ipython3",
   "version": "3.9.12"
  }
 },
 "nbformat": 4,
 "nbformat_minor": 5
}
